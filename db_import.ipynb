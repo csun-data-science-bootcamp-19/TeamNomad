{
 "cells": [
  {
   "cell_type": "code",
   "execution_count": 1,
   "metadata": {},
   "outputs": [],
   "source": [
    "import pandas as pd\n",
    "import sqlite3\n",
    "conn = sqlite3.connect('final.db')\n",
    "cur = conn.cursor()\n"
   ]
  },
  {
   "cell_type": "code",
   "execution_count": 2,
   "metadata": {},
   "outputs": [],
   "source": [
    "def fetch_table_names(cur: sqlite3.Cursor) -> [str]:\n",
    "    '''\n",
    "    Retrieves all tables in the database\n",
    "    '''\n",
    "    \n",
    "    cur.execute('SELECT name FROM sqlite_master WHERE type = \\'table\\';')\n",
    "    return [x[0] for x in cur.fetchall()]\n",
    "\n",
    "def fetch_column_names(cur: sqlite3.Cursor, table: str) -> [str]:\n",
    "    '''\n",
    "    Retrieves all columns in a table\n",
    "    '''\n",
    "    \n",
    "    cur.execute('PRAGMA table_info(' + table + ');')\n",
    "    return [x[1] for x in cur.fetchall()]\n",
    "\n",
    "def fetch_col_values(cur: sqlite3.Cursor, table: str, col: str) -> []:\n",
    "    '''\n",
    "    Returns all values for a specific column\n",
    "    '''\n",
    "    \n",
    "    cur.execute('SELECT ' + col + ' FROM ' + table + ';')\n",
    "    return [x[0] for x in cur.fetchall()]\n"
   ]
  },
  {
   "cell_type": "code",
   "execution_count": 3,
   "metadata": {},
   "outputs": [
    {
     "data": {
      "text/plain": [
       "['SCHOOL_TRAIN', 'SCHOOL_TEST', 'POKEMON_TRAIN', 'POKEMON_TEST']"
      ]
     },
     "execution_count": 3,
     "metadata": {},
     "output_type": "execute_result"
    }
   ],
   "source": [
    "fetch_table_names(cur)\n"
   ]
  },
  {
   "cell_type": "code",
   "execution_count": 4,
   "metadata": {},
   "outputs": [
    {
     "data": {
      "text/plain": [
       "['rowid',\n",
       " 'unique_id',\n",
       " 'types',\n",
       " 'abilities',\n",
       " 'base_happiness',\n",
       " 'height_m',\n",
       " 'weight_kg',\n",
       " 'poke_stats',\n",
       " 'is_legendary']"
      ]
     },
     "execution_count": 4,
     "metadata": {},
     "output_type": "execute_result"
    }
   ],
   "source": [
    "db_col_names=fetch_column_names(cur, 'POKEMON_TRAIN')\n",
    "db_col_names"
   ]
  },
  {
   "cell_type": "code",
   "execution_count": 5,
   "metadata": {},
   "outputs": [
    {
     "data": {
      "text/plain": [
       "['is_legendary',\n",
       " 'poke_stats',\n",
       " 'weight_kg',\n",
       " 'height_m',\n",
       " 'base_happiness',\n",
       " 'abilities',\n",
       " 'types',\n",
       " 'unique_id',\n",
       " 'rowid']"
      ]
     },
     "execution_count": 5,
     "metadata": {},
     "output_type": "execute_result"
    }
   ],
   "source": [
    "db_col_names = db_col_names [::-1]\n",
    "db_col_names "
   ]
  },
  {
   "cell_type": "code",
   "execution_count": 6,
   "metadata": {},
   "outputs": [],
   "source": [
    "id_z= fetch_col_values(cur, 'POKEMON_TRAIN', \"rowid\")"
   ]
  },
  {
   "cell_type": "code",
   "execution_count": 7,
   "metadata": {},
   "outputs": [],
   "source": [
    "aa = pd.Series(fetch_col_values(cur, 'POKEMON_TRAIN', \"abilities\"))"
   ]
  },
  {
   "cell_type": "code",
   "execution_count": 8,
   "metadata": {},
   "outputs": [],
   "source": [
    "df = pd.DataFrame(id_z)"
   ]
  },
  {
   "cell_type": "code",
   "execution_count": null,
   "metadata": {},
   "outputs": [],
   "source": [
    "names= []\n",
    "for i in db_col_names:\n",
    "    val = pd.Series(fetch_col_values(cur, 'POKEMON_TRAIN', i))\n",
    "    df = pd.concat([val, df], axis=1, names=i)\n",
    "    names_ = names.reverse()\n",
    "    #df.rename(columns = {\"0\":\"rowid\",\"0\":\"types\"}, inplace = True)\n",
    "    names.append(i)\n"
   ]
  },
  {
   "cell_type": "code",
   "execution_count": null,
   "metadata": {},
   "outputs": [],
   "source": [
    "df.columns = [\"is_legendary\",\"poke_stats\",\"weight_kg\",\"height_m\",\"base_happiness\",\"abilities\",\"types\",\"unique_id\",\"rowid\",\"rowid2\"]"
   ]
  },
  {
   "cell_type": "code",
   "execution_count": null,
   "metadata": {},
   "outputs": [],
   "source": [
    "df.drop(columns=[\"rowid2\"],inplace=True)"
   ]
  },
  {
   "cell_type": "code",
   "execution_count": null,
   "metadata": {},
   "outputs": [],
   "source": [
    "df"
   ]
  },
  {
   "cell_type": "code",
   "execution_count": null,
   "metadata": {},
   "outputs": [],
   "source": [
    "#df.to_csv(\"/Users/josedelarosa/Desktop/TeamNomad/pokeman_train.csv\")"
   ]
  },
  {
   "cell_type": "code",
   "execution_count": null,
   "metadata": {},
   "outputs": [],
   "source": []
  },
  {
   "cell_type": "code",
   "execution_count": null,
   "metadata": {},
   "outputs": [],
   "source": []
  },
  {
   "cell_type": "code",
   "execution_count": null,
   "metadata": {},
   "outputs": [],
   "source": [
    "test_col_names = fetch_column_names(cur, 'POKEMON_TEST')\n",
    "test_col_names"
   ]
  },
  {
   "cell_type": "code",
   "execution_count": null,
   "metadata": {},
   "outputs": [],
   "source": [
    "test_col_names = test_col_names[::-1]"
   ]
  },
  {
   "cell_type": "code",
   "execution_count": null,
   "metadata": {},
   "outputs": [],
   "source": [
    "test_col_names"
   ]
  },
  {
   "cell_type": "code",
   "execution_count": null,
   "metadata": {},
   "outputs": [],
   "source": [
    "test_id_z= fetch_col_values(cur, 'POKEMON_TEST', \"rowid\")"
   ]
  },
  {
   "cell_type": "code",
   "execution_count": null,
   "metadata": {},
   "outputs": [],
   "source": [
    "test_aa = pd.Series(fetch_col_values(cur, 'POKEMON_TEST', \"abilities\"))"
   ]
  },
  {
   "cell_type": "code",
   "execution_count": null,
   "metadata": {},
   "outputs": [],
   "source": [
    "test_df = pd.DataFrame(test_id_z)"
   ]
  },
  {
   "cell_type": "code",
   "execution_count": null,
   "metadata": {},
   "outputs": [],
   "source": [
    "for i in test_col_names:\n",
    "    val = pd.Series(fetch_col_values(cur, 'POKEMON_TEST', i))\n",
    "    test_df = pd.concat([val, test_df], axis=1, names=i)\n",
    "    #test_names.append(i)\n",
    "\n"
   ]
  },
  {
   "cell_type": "code",
   "execution_count": null,
   "metadata": {},
   "outputs": [],
   "source": [
    "test_df.columns = ['rowid',\n",
    " 'unique_id',\n",
    " 'types',\n",
    " 'abilities',\n",
    " 'base_happiness',\n",
    " 'height_m',\n",
    " 'weight_kg',\n",
    " 'poke_stats','rowid2']"
   ]
  },
  {
   "cell_type": "code",
   "execution_count": null,
   "metadata": {},
   "outputs": [],
   "source": [
    "test_df"
   ]
  },
  {
   "cell_type": "code",
   "execution_count": null,
   "metadata": {},
   "outputs": [],
   "source": [
    "test_df.drop(columns=[\"rowid2\"],inplace=True)"
   ]
  },
  {
   "cell_type": "code",
   "execution_count": null,
   "metadata": {
    "scrolled": true
   },
   "outputs": [],
   "source": [
    "test_df"
   ]
  },
  {
   "cell_type": "code",
   "execution_count": null,
   "metadata": {},
   "outputs": [],
   "source": [
    "#test_df.to_csv(\"/Users/josedelarosa/Desktop/TeamNomad/pokeman_test.csv\")"
   ]
  },
  {
   "cell_type": "code",
   "execution_count": null,
   "metadata": {},
   "outputs": [],
   "source": []
  }
 ],
 "metadata": {
  "kernelspec": {
   "display_name": "Python 3",
   "language": "python",
   "name": "python3"
  },
  "language_info": {
   "codemirror_mode": {
    "name": "ipython",
    "version": 3
   },
   "file_extension": ".py",
   "mimetype": "text/x-python",
   "name": "python",
   "nbconvert_exporter": "python",
   "pygments_lexer": "ipython3",
   "version": "3.7.1"
  }
 },
 "nbformat": 4,
 "nbformat_minor": 2
}
